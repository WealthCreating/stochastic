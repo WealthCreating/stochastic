{
 "cells": [
  {
   "cell_type": "code",
   "execution_count": 1,
   "metadata": {},
   "outputs": [],
   "source": [
    "import numpy as np\n",
    "import matplotlib.pyplot as plt\n",
    "from ito_diffusions import *\n",
    "from ou_fitting import *\n",
    "from scipy.stats import laplace\n",
    "plt.style.use('dark_background')"
   ]
  },
  {
   "cell_type": "code",
   "execution_count": 2,
   "metadata": {},
   "outputs": [],
   "source": [
    "params = {\n",
    "    'font.size': 14,\n",
    "    'figure.figsize': (11,18),\n",
    "    'axes.labelsize': 12,\n",
    "    'xtick.labelsize': 12,\n",
    "    'ytick.labelsize': 12,\n",
    "}\n",
    "plt.rcParams.update(params)"
   ]
  },
  {
   "cell_type": "code",
   "execution_count": 3,
   "metadata": {},
   "outputs": [],
   "source": [
    "DAYS_IN_YEAR = 252\n",
    "T = 8\n",
    "SCHEME_STEPS = int(DAYS_IN_YEAR*T)"
   ]
  },
  {
   "cell_type": "code",
   "execution_count": 4,
   "metadata": {},
   "outputs": [],
   "source": [
    "std_dev_weight = 1.0\n",
    "n_quadrature = 15"
   ]
  },
  {
   "cell_type": "markdown",
   "metadata": {},
   "source": [
    "## Ornstein-Uhlenbeck with jumps\n",
    "\n",
    "$dX_t = \\lambda(\\theta_0-X_t)dt + \\sigma dW_t + dJ_t$ where the jump process $J_t$ has constant Poisson intensity $m$ and jump size distribution $Laplace(\\gamma)$."
   ]
  },
  {
   "cell_type": "code",
   "execution_count": 5,
   "metadata": {
    "scrolled": true
   },
   "outputs": [
    {
     "data": {
      "image/png": "[encoded data removed]",
      "text/plain": [
       "<Figure size 648x360 with 1 Axes>"
      ]
     },
     "metadata": {
      "needs_background": "dark"
     },
     "output_type": "display_data"
    }
   ],
   "source": [
    "fig, ax = plt.subplots(figsize=(9,5), nrows=1, ncols=1)\n",
    "\n",
    "mean_reversion = 5.0\n",
    "long_term = 0.0\n",
    "vol = 0.4\n",
    "\n",
    "jump_intensity = 2.0\n",
    "jump_size_scale = 1.0\n",
    "jump_size_distr = laplace(loc=0.0, scale=1/jump_size_scale)\n",
    "\n",
    "jump_params = {\n",
    "    'jump_intensity_func': lambda t,x: jump_intensity,\n",
    "    'jump_size_distr': jump_size_distr,\n",
    "}\n",
    "\n",
    "OU = Vasicek(x0=0.0, T=T, scheme_steps=SCHEME_STEPS, \n",
    "             vol=vol, long_term=long_term, mean_reversion=mean_reversion,\n",
    "             jump_params=jump_params\n",
    "            )\n",
    "\n",
    "df = OU.simulate()\n",
    "\n",
    "ax.plot(df, label='OU with jumps')\n",
    "ax.legend(loc='upper right')\n",
    "\n",
    "plt.tight_layout()\n",
    "plt.show()"
   ]
  },
  {
   "cell_type": "markdown",
   "metadata": {},
   "source": [
    "## Estimate all parameters at once"
   ]
  },
  {
   "cell_type": "code",
   "execution_count": 6,
   "metadata": {},
   "outputs": [],
   "source": [
    "fitter = OU_jump_Laplace_fitter(theta_init_mode='random',\n",
    "                                std_dev_weight=std_dev_weight,\n",
    "                                n_quadrature=n_quadrature,\n",
    "                               )\n",
    "fitter.df = df\n",
    "fitter.regularization = 0.0"
   ]
  },
  {
   "cell_type": "code",
   "execution_count": 7,
   "metadata": {},
   "outputs": [
    {
     "data": {
      "text/plain": [
       "[1.1185844360370023,\n",
       " -0.8889929225216948,\n",
       " 0.6225793381123871,\n",
       " 0.7022642620575977,\n",
       " 4.294596240303898]"
      ]
     },
     "execution_count": 7,
     "metadata": {},
     "output_type": "execute_result"
    }
   ],
   "source": [
    "fitter.theta_init"
   ]
  },
  {
   "cell_type": "code",
   "execution_count": 8,
   "metadata": {},
   "outputs": [
    {
     "data": {
      "text/plain": [
       "      fun: 0.0013477958538186965\n",
       " hess_inv: <5x5 LbfgsInvHessProduct with dtype=float64>\n",
       "      jac: array([-5.07406617e-09, -1.25203667e-07,  0.00000000e+00, -4.56665955e-08,\n",
       "        1.31405303e-08])\n",
       "  message: b'CONVERGENCE: NORM_OF_PROJECTED_GRADIENT_<=_PGTOL'\n",
       "     nfev: 198\n",
       "      nit: 27\n",
       "   status: 0\n",
       "  success: True\n",
       "        x: array([ 5.42908756, -0.01387602,  0.        ,  1.06718755,  2.12248188])"
      ]
     },
     "execution_count": 8,
     "metadata": {},
     "output_type": "execute_result"
    }
   ],
   "source": [
    "fit_info = fitter.fit()\n",
    "fit_info"
   ]
  },
  {
   "cell_type": "code",
   "execution_count": 9,
   "metadata": {},
   "outputs": [
    {
     "name": "stdout",
     "output_type": "stream",
     "text": [
      "Ground truth:\n",
      "mean reversion: 5.00\n",
      "long term: 0.00\n",
      "vol: 40.00%\n",
      "intensity: 2.00\n",
      "jump size scale: 1.00\n",
      "\n",
      "Fitted:\n",
      "mean reversion: 5.43\n",
      "long term: -0.01\n",
      "vol: 0%\n",
      "intensity: 2.12\n",
      "jump size scale: 1.07\n",
      "\n",
      "Regression (diffusion only):\n",
      "mean reversion (annualized): 4.52\n",
      "long term: 0.06\n",
      "vol (annualized): 43%\n"
     ]
    }
   ],
   "source": [
    "print('Ground truth:')\n",
    "print('mean reversion: {:.2f}'.format(OU.mean_reversion))\n",
    "print('long term: {:.2f}'.format(OU.long_term))\n",
    "print('vol: {:.2%}'.format(OU.vol_double))\n",
    "print('intensity: {:.2f}'.format(jump_intensity))\n",
    "print('jump size scale: {:.2f}'.format(jump_size_scale))\n",
    "\n",
    "print('\\nFitted:')\n",
    "print('mean reversion: {:.2f}'.format(fitter.theta[0]))\n",
    "print('long term: {:.2f}'.format(fitter.theta[1]))\n",
    "print('vol: {:.0%}'.format(fitter.theta[2]))\n",
    "print('intensity: {:.2f}'.format(fitter.theta[4]))\n",
    "print('jump size scale: {:.2f}'.format(fitter.theta[3]))\n",
    "\n",
    "print('\\nRegression (diffusion only):')\n",
    "print('mean reversion (annualized): {:.2f}'.format(fitter.theta_regression()[0]))\n",
    "print('long term: {:.2f}'.format(fitter.theta_regression()[1]))\n",
    "print('vol (annualized): {:.0%}'.format(fitter.vol_estimate()))"
   ]
  },
  {
   "cell_type": "markdown",
   "metadata": {},
   "source": [
    "## Ornstein-Uhlenbeck with jumps, only fit jump parameters"
   ]
  },
  {
   "cell_type": "code",
   "execution_count": 10,
   "metadata": {},
   "outputs": [],
   "source": [
    "fitter = OU_jump_only_Laplace_fitter(theta_init_mode='random',\n",
    "                                     std_dev_weight=std_dev_weight,\n",
    "                                     n_quadrature=n_quadrature,\n",
    "                                    )\n",
    "fitter.df = df\n",
    "fitter.theta_diffusion = [mean_reversion, long_term, vol]\n",
    "fitter.regularization = 0.0"
   ]
  },
  {
   "cell_type": "code",
   "execution_count": 11,
   "metadata": {},
   "outputs": [
    {
     "data": {
      "text/plain": [
       "[0.8785709288617616, 4.117365723655554]"
      ]
     },
     "execution_count": 11,
     "metadata": {},
     "output_type": "execute_result"
    }
   ],
   "source": [
    "fitter.theta_init"
   ]
  },
  {
   "cell_type": "code",
   "execution_count": 12,
   "metadata": {},
   "outputs": [
    {
     "data": {
      "text/plain": [
       "      fun: 0.001660299380684747\n",
       " hess_inv: <2x2 LbfgsInvHessProduct with dtype=float64>\n",
       "      jac: array([-1.79407270e-06,  1.13208054e-06])\n",
       "  message: b'CONVERGENCE: NORM_OF_PROJECTED_GRADIENT_<=_PGTOL'\n",
       "     nfev: 57\n",
       "      nit: 17\n",
       "   status: 0\n",
       "  success: True\n",
       "        x: array([0.96759679, 1.58316731])"
      ]
     },
     "execution_count": 12,
     "metadata": {},
     "output_type": "execute_result"
    }
   ],
   "source": [
    "fit_info = fitter.fit()\n",
    "fit_info"
   ]
  },
  {
   "cell_type": "code",
   "execution_count": 13,
   "metadata": {},
   "outputs": [
    {
     "name": "stdout",
     "output_type": "stream",
     "text": [
      "Ground truth:\n",
      "intensity: 2.00\n",
      "jump size scale: 1.00\n",
      "\n",
      "Fitted:\n",
      "intensity: 1.58\n",
      "jump size scale: 0.97\n"
     ]
    }
   ],
   "source": [
    "print('Ground truth:')\n",
    "print('intensity: {:.2f}'.format(jump_intensity))\n",
    "print('jump size scale: {:.2f}'.format(jump_size_scale))\n",
    "\n",
    "print('\\nFitted:')\n",
    "print('intensity: {:.2f}'.format(fitter.theta[1]))\n",
    "print('jump size scale: {:.2f}'.format(fitter.theta[0]))"
   ]
  },
  {
   "cell_type": "markdown",
   "metadata": {},
   "source": [
    "## Estimate all parameters except mean-reversion"
   ]
  },
  {
   "cell_type": "code",
   "execution_count": 14,
   "metadata": {},
   "outputs": [],
   "source": [
    "fitter = OU_jump_Laplace_fixed_mr_fitter(theta_init_mode='random',\n",
    "                                         std_dev_weight=std_dev_weight,\n",
    "                                         n_quadrature=n_quadrature,\n",
    "                                        )\n",
    "fitter.df = df\n",
    "fitter.regularization = 0.0"
   ]
  },
  {
   "cell_type": "code",
   "execution_count": 15,
   "metadata": {},
   "outputs": [
    {
     "data": {
      "text/plain": [
       "[-0.47418766754291797,\n",
       " 0.697216642360851,\n",
       " 0.41799813404170433,\n",
       " 1.289924567306348]"
      ]
     },
     "execution_count": 15,
     "metadata": {},
     "output_type": "execute_result"
    }
   ],
   "source": [
    "fitter.theta_init"
   ]
  },
  {
   "cell_type": "code",
   "execution_count": 16,
   "metadata": {},
   "outputs": [
    {
     "data": {
      "text/plain": [
       "      fun: 0.0013447165693643973\n",
       " hess_inv: <4x4 LbfgsInvHessProduct with dtype=float64>\n",
       "      jac: array([ 8.78396748e-06,  2.46796941e-06, -4.57147341e-06,  2.89442949e-06])\n",
       "  message: b'CONVERGENCE: NORM_OF_PROJECTED_GRADIENT_<=_PGTOL'\n",
       "     nfev: 145\n",
       "      nit: 25\n",
       "   status: 0\n",
       "  success: True\n",
       "        x: array([-0.01387905,  0.35127188,  0.96841278,  1.44923268])"
      ]
     },
     "execution_count": 16,
     "metadata": {},
     "output_type": "execute_result"
    }
   ],
   "source": [
    "fit_info = fitter.fit()\n",
    "fit_info"
   ]
  },
  {
   "cell_type": "code",
   "execution_count": 17,
   "metadata": {},
   "outputs": [
    {
     "name": "stdout",
     "output_type": "stream",
     "text": [
      "Ground truth:\n",
      "mean reversion: 5.00\n",
      "long term: 0.00\n",
      "vol: 40.00%\n",
      "intensity: 2.00\n",
      "jump size scale: 1.00\n",
      "\n",
      "Fitted:\n",
      "mean reversion: 4.52\n",
      "long term: -0.01\n",
      "vol: 35%\n",
      "intensity: 1.45\n",
      "jump size scale: 0.97\n"
     ]
    }
   ],
   "source": [
    "print('Ground truth:')\n",
    "print('mean reversion: {:.2f}'.format(OU.mean_reversion))\n",
    "print('long term: {:.2f}'.format(OU.long_term))\n",
    "print('vol: {:.2%}'.format(OU.vol_double))\n",
    "print('intensity: {:.2f}'.format(jump_intensity))\n",
    "print('jump size scale: {:.2f}'.format(jump_size_scale))\n",
    "\n",
    "print('\\nFitted:')\n",
    "print('mean reversion: {:.2f}'.format(fitter.theta_regression()[0]))\n",
    "print('long term: {:.2f}'.format(fitter.theta[0]))\n",
    "print('vol: {:.0%}'.format(fitter.theta[1]))\n",
    "print('intensity: {:.2f}'.format(fitter.theta[3]))\n",
    "print('jump size scale: {:.2f}'.format(fitter.theta[2]))"
   ]
  },
  {
   "cell_type": "markdown",
   "metadata": {},
   "source": [
    "## Estimate all parameters except vol\n",
    "\n",
    "Compared to mean-reversion, volatility can be estimated in a robust fashion by using inter-quantile range estimate (basically fitting a normal distribution using the quantiles rather than the moments as these are less sensitive to the large deviations coming from the jumps)."
   ]
  },
  {
   "cell_type": "code",
   "execution_count": 18,
   "metadata": {},
   "outputs": [],
   "source": [
    "fitter = OU_jump_Laplace_fixed_vol_fitter(theta_init_mode='random',\n",
    "                                          std_dev_weight=std_dev_weight,\n",
    "                                          n_quadrature=n_quadrature,\n",
    "                                         )\n",
    "fitter.df = df\n",
    "fitter.regularization = 0.0"
   ]
  },
  {
   "cell_type": "code",
   "execution_count": 19,
   "metadata": {},
   "outputs": [
    {
     "data": {
      "text/plain": [
       "[2.937022214223132,\n",
       " -0.24897382765052956,\n",
       " 0.3736333789701673,\n",
       " 2.9173164084973653]"
      ]
     },
     "execution_count": 19,
     "metadata": {},
     "output_type": "execute_result"
    }
   ],
   "source": [
    "fitter.theta_init"
   ]
  },
  {
   "cell_type": "code",
   "execution_count": 20,
   "metadata": {},
   "outputs": [
    {
     "name": "stderr",
     "output_type": "stream",
     "text": [
      "/home/sauxpa/Documents/python_scripts/Quant/jump_model/ou_fitting/ou_fitting_jump_laplace.py:183: RuntimeWarning: invalid value encountered in double_scalars\n",
      "  return np.exp(u*long_term*1j-(u**2)*(vol**2)/(4*mean_reversion))*(gamma**2/(gamma**2+u**2))**(m/(2*mean_reversion))\n"
     ]
    },
    {
     "data": {
      "text/plain": [
       "      fun: 0.0013454411188796415\n",
       " hess_inv: <4x4 LbfgsInvHessProduct with dtype=float64>\n",
       "      jac: array([-2.20479017e-06,  3.52365706e-07, -7.94405774e-06,  3.77363071e-06])\n",
       "  message: b'CONVERGENCE: NORM_OF_PROJECTED_GRADIENT_<=_PGTOL'\n",
       "     nfev: 255\n",
       "      nit: 26\n",
       "   status: 0\n",
       "  success: True\n",
       "        x: array([ 4.65672199, -0.01388354,  0.92281678,  1.35715429])"
      ]
     },
     "execution_count": 20,
     "metadata": {},
     "output_type": "execute_result"
    }
   ],
   "source": [
    "fit_info = fitter.fit()\n",
    "fit_info"
   ]
  },
  {
   "cell_type": "code",
   "execution_count": 21,
   "metadata": {},
   "outputs": [
    {
     "name": "stdout",
     "output_type": "stream",
     "text": [
      "Ground truth:\n",
      "mean reversion: 5.00\n",
      "long term: 0.00\n",
      "vol: 40.00%\n",
      "intensity: 2.00\n",
      "jump size scale: 1.00\n",
      "\n",
      "Fitted:\n",
      "mean reversion: 4.66\n",
      "long term: -0.01\n",
      "vol: 43%\n",
      "intensity: 1.36\n",
      "jump size scale: 0.92\n",
      "\n",
      "Regression (diffusion only):\n",
      "mean reversion (annualized): 4.52\n",
      "long term: 0.06\n",
      "vol (annualized): 43%\n"
     ]
    }
   ],
   "source": [
    "print('Ground truth:')\n",
    "print('mean reversion: {:.2f}'.format(OU.mean_reversion))\n",
    "print('long term: {:.2f}'.format(OU.long_term))\n",
    "print('vol: {:.2%}'.format(OU.vol_double))\n",
    "print('intensity: {:.2f}'.format(jump_intensity))\n",
    "print('jump size scale: {:.2f}'.format(jump_size_scale))\n",
    "\n",
    "print('\\nFitted:')\n",
    "print('mean reversion: {:.2f}'.format(fitter.theta[0]))\n",
    "print('long term: {:.2f}'.format(fitter.theta[1]))\n",
    "print('vol: {:.0%}'.format(fitter.vol_estimate()))\n",
    "print('intensity: {:.2f}'.format(fitter.theta[3]))\n",
    "print('jump size scale: {:.2f}'.format(fitter.theta[2]))\n",
    "\n",
    "print('\\nRegression (diffusion only):')\n",
    "print('mean reversion (annualized): {:.2f}'.format(fitter.theta_regression()[0]))\n",
    "print('long term: {:.2f}'.format(fitter.theta_regression()[1]))\n",
    "print('vol (annualized): {:.0%}'.format(fitter.vol_estimate()))"
   ]
  },
  {
   "cell_type": "markdown",
   "metadata": {},
   "source": [
    "## Calibrating a jump model when there is none...\n",
    "\n",
    "A good test to detect potential jumps is to calibrate a jump model : if the most likely value for jump intensity is zero then the jump hypothesis can be rejected (heuristically but this can perhaps be turned into a rigorous statistical test)."
   ]
  },
  {
   "cell_type": "code",
   "execution_count": 22,
   "metadata": {},
   "outputs": [
    {
     "data": {
      "image/png": "[encoded data removed]",
      "text/plain": [
       "<Figure size 648x360 with 1 Axes>"
      ]
     },
     "metadata": {
      "needs_background": "dark"
     },
     "output_type": "display_data"
    }
   ],
   "source": [
    "fig, ax = plt.subplots(figsize=(9,5), nrows=1, ncols=1)\n",
    "\n",
    "mean_reversion = 1.0\n",
    "long_term = 0.0\n",
    "vol = 0.4\n",
    "\n",
    "OU = Vasicek(x0=0.0, T=T, scheme_steps=SCHEME_STEPS, \n",
    "             vol=vol, long_term=long_term, mean_reversion=mean_reversion,\n",
    "            )\n",
    "\n",
    "df = OU.simulate()\n",
    "\n",
    "ax.plot(df, label='OU without jumps')\n",
    "ax.legend(loc='upper right')\n",
    "\n",
    "plt.tight_layout()\n",
    "plt.show()"
   ]
  },
  {
   "cell_type": "code",
   "execution_count": 23,
   "metadata": {},
   "outputs": [],
   "source": [
    "fitter = OU_jump_only_Laplace_fitter(theta_init_mode='random',\n",
    "                                     std_dev_weight=std_dev_weight,\n",
    "                                     n_quadrature=n_quadrature,\n",
    "                                    )\n",
    "fitter.df = df\n",
    "fitter.theta_diffusion = [mean_reversion, long_term, vol]\n",
    "fitter.regularization = 0.0"
   ]
  },
  {
   "cell_type": "code",
   "execution_count": 24,
   "metadata": {},
   "outputs": [
    {
     "data": {
      "text/plain": [
       "[0.6306844504770169, 4.091778116677809]"
      ]
     },
     "execution_count": 24,
     "metadata": {},
     "output_type": "execute_result"
    }
   ],
   "source": [
    "fitter.theta_init"
   ]
  },
  {
   "cell_type": "code",
   "execution_count": 25,
   "metadata": {},
   "outputs": [
    {
     "data": {
      "text/plain": [
       "      fun: 0.07795403682517871\n",
       " hess_inv: <2x2 LbfgsInvHessProduct with dtype=float64>\n",
       "      jac: array([-5.68989300e-08,  1.01862963e-06])\n",
       "  message: b'CONVERGENCE: NORM_OF_PROJECTED_GRADIENT_<=_PGTOL'\n",
       "     nfev: 33\n",
       "      nit: 10\n",
       "   status: 0\n",
       "  success: True\n",
       "        x: array([4.86961631, 0.10754255])"
      ]
     },
     "execution_count": 25,
     "metadata": {},
     "output_type": "execute_result"
    }
   ],
   "source": [
    "fit_info = fitter.fit()\n",
    "fit_info"
   ]
  },
  {
   "cell_type": "code",
   "execution_count": 26,
   "metadata": {},
   "outputs": [
    {
     "name": "stdout",
     "output_type": "stream",
     "text": [
      "Fitted:\n",
      "intensity: 0.11\n",
      "jump size scale: 4.87\n"
     ]
    }
   ],
   "source": [
    "print('Fitted:')\n",
    "print('intensity: {:.2f}'.format(fitter.theta[1]))\n",
    "print('jump size scale: {:.2f}'.format(fitter.theta[0]))"
   ]
  }
 ],
 "metadata": {
  "kernelspec": {
   "display_name": "Python 3",
   "language": "python",
   "name": "python3"
  },
  "language_info": {
   "codemirror_mode": {
    "name": "ipython",
    "version": 3
   },
   "file_extension": ".py",
   "mimetype": "text/x-python",
   "name": "python",
   "nbconvert_exporter": "python",
   "pygments_lexer": "ipython3",
   "version": "3.7.3"
  }
 },
 "nbformat": 4,
 "nbformat_minor": 2
}
